{
 "cells": [
  {
   "cell_type": "code",
   "execution_count": 16,
   "id": "1e4c8d94",
   "metadata": {},
   "outputs": [
    {
     "name": "stdout",
     "output_type": "stream",
     "text": [
      "Requirement already satisfied: selenium in /Users/jay/miniconda3/lib/python3.9/site-packages (3.141.0)\n",
      "Requirement already satisfied: urllib3 in /Users/jay/miniconda3/lib/python3.9/site-packages (from selenium) (1.25.11)\n",
      "Requirement already satisfied: beautifulsoup4 in /Users/jay/miniconda3/lib/python3.9/site-packages (4.9.3)\n",
      "Requirement already satisfied: soupsieve>1.2 in /Users/jay/miniconda3/lib/python3.9/site-packages (from beautifulsoup4) (2.2.1)\n",
      "Requirement already satisfied: requests in /Users/jay/miniconda3/lib/python3.9/site-packages (2.25.0)\n",
      "Requirement already satisfied: chardet<4,>=3.0.2 in /Users/jay/miniconda3/lib/python3.9/site-packages (from requests) (3.0.4)\n",
      "Requirement already satisfied: urllib3<1.27,>=1.21.1 in /Users/jay/miniconda3/lib/python3.9/site-packages (from requests) (1.25.11)\n",
      "Requirement already satisfied: certifi>=2017.4.17 in /Users/jay/miniconda3/lib/python3.9/site-packages (from requests) (2021.5.30)\n",
      "Requirement already satisfied: idna<3,>=2.5 in /Users/jay/miniconda3/lib/python3.9/site-packages (from requests) (2.10)\n"
     ]
    }
   ],
   "source": [
    "! pip install selenium\n",
    "! pip install beautifulsoup4\n",
    "! pip install requests"
   ]
  },
  {
   "cell_type": "code",
   "execution_count": 2,
   "id": "71d0f008",
   "metadata": {},
   "outputs": [],
   "source": [
    "import json\n",
    "import requests\n",
    "import time\n",
    "from bs4 import BeautifulSoup\n",
    "from selenium import webdriver\n",
    "from selenium.webdriver.common.keys import Keys\n",
    "from selenium.webdriver.common.action_chains import ActionChains\n",
    "from selenium.webdriver.common.by import By\n",
    "from selenium.webdriver.common.keys import Keys\n",
    "\n",
    "from datetime import datetime"
   ]
  },
  {
   "cell_type": "code",
   "execution_count": 3,
   "id": "6de00a8e",
   "metadata": {},
   "outputs": [
    {
     "name": "stdout",
     "output_type": "stream",
     "text": [
      "지원 끝!\n"
     ]
    }
   ],
   "source": [
    "date = str(datetime.today().date())\n",
    "with open('secrets.json') as log:\n",
    "    info = json.loads(log.read())\n",
    "\n",
    "driver = webdriver.Chrome(executable_path= r'/Users/jay/SideProject/wanted/chromedriver')\n",
    "driver.get('https://www.wanted.co.kr/newintro')\n",
    "\n",
    "# id, pw 로그인 과정 id,pw 는 secrets.json 파일에 만들어주세요\n",
    "driver.find_element_by_xpath(\"//*[@id='__next']/div/div[1]/div/nav/aside/ul/li[2]/button\").click()\n",
    "driver.implicitly_wait(5)\n",
    "driver.find_element_by_xpath(\"//*[@id='email']\").send_keys(info['id'])\n",
    "driver.find_element_by_xpath(\"//*[@id='MODAL_BODY']/div[2]/div[2]/button[1]\").click()\n",
    "driver.implicitly_wait(10)\n",
    "driver.find_element_by_xpath(\"//*[@id='password-text-field']\").send_keys(info['pw'])\n",
    "driver.find_element_by_xpath(\"//*[@id='MODAL_BODY']/div/button[1]\").click()\n",
    "driver.implicitly_wait(5)\n",
    "time.sleep(1)\n",
    "# id, pw 안되시면 cookie에 jwt 추가해서 하는 방법도 있어요\n",
    "# driver.add_cookie({\"name\": \"jwt\", \"value\": \"여기에 token 추가해주세요\"})\n",
    "# driver.refresh()\n",
    "\n",
    "# 북마크 리스트 수집\n",
    "driver.get('https://www.wanted.co.kr/profile/bookmarks')\n",
    "req = driver.page_source\n",
    "html = BeautifulSoup(req, 'html.parser')\n",
    "tags = html.select('li > div > a')\n",
    "companies = []\n",
    "\n",
    "for tag in tags:\n",
    "    companies.append(tag['href'])\n",
    "\n",
    "for company in companies:\n",
    "    try:\n",
    "        driver.get(f'https://www.wanted.co.kr{company}')\n",
    "        driver.implicitly_wait(15)\n",
    "        btn = driver.find_element_by_xpath(\"//*[@id='__next']/div/div[3]/div[1]/div[1]/aside/div/header/div[2]/div[2]/button\")\n",
    "        if btn:\n",
    "            btn.click()\n",
    "            driver.implicitly_wait(15)\n",
    "            time.sleep(1)\n",
    "        \n",
    "        # 이력서 첨부 /한가지 첨부파일만 원할 시 for loop 제거 i -> 원하는 첨부파일 순서 두번째면 2/ 3개 이상 첨부 원할시 range(1,4) 로 수정\n",
    "        for i in range(1,3):\n",
    "            driver.find_element_by_xpath(f\"//*[@id='MODAL_BODY']/div/ul/li[{i}]/div/label\").click()\n",
    "        driver.find_element_by_xpath(\"//*[@id='__next']/div/div[3]/div[1]/div[1]/aside/div/footer/button\").click()\n",
    "        driver.implicitly_wait(15)\n",
    "\n",
    "        # 지원완료시 북마크 제거\n",
    "        driver.get(f'https://www.wanted.co.kr{company}')\n",
    "        driver.implicitly_wait(15)\n",
    "        done = driver.find_element_by_xpath(\"//*[@id='__next']/div/div[3]/div[1]/div[1]/aside/div/header/div[2]/div[2]/button\").text\n",
    "\n",
    "        if done == '지원완료':\n",
    "            company_info = driver.find_element_by_xpath(\"//*[@id='__next']/div/div[3]/div[1]/div[1]/div[1]/section[2]/div[1]/h6/a\")\n",
    "            company_name = company_info.get_attribute('data-company-name')\n",
    "            \n",
    "            # 지원이력 파일로 저장 관리\n",
    "            with open('wanted-list.csv', 'a', encoding=\"UTF8\") as file:\n",
    "                file.write(date+','+company+','+company_name+'\\n')\n",
    "            \n",
    "            driver.find_element_by_xpath(\"//*[@id='__next']/div/div[3]/div[1]/div[1]/aside/div/header/button\").click()\n",
    "\n",
    "    except:\n",
    "        print(company,'지원실패!')\n",
    "        continue\n",
    "\n",
    "driver.close()\n",
    "print('지원 끝!')"
   ]
  },
  {
   "cell_type": "code",
   "execution_count": null,
   "id": "bfd43185",
   "metadata": {},
   "outputs": [],
   "source": []
  },
  {
   "cell_type": "code",
   "execution_count": null,
   "id": "7dd23d7b",
   "metadata": {},
   "outputs": [],
   "source": []
  }
 ],
 "metadata": {
  "kernelspec": {
   "display_name": "Python 3 (ipykernel)",
   "language": "python",
   "name": "python3"
  },
  "language_info": {
   "codemirror_mode": {
    "name": "ipython",
    "version": 3
   },
   "file_extension": ".py",
   "mimetype": "text/x-python",
   "name": "python",
   "nbconvert_exporter": "python",
   "pygments_lexer": "ipython3",
   "version": "3.9.1"
  }
 },
 "nbformat": 4,
 "nbformat_minor": 5
}
